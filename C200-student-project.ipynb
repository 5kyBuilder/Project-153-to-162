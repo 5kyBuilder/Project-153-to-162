{
 "cells": [
  {
   "cell_type": "markdown",
   "metadata": {},
   "source": [
    "# GUI APPLICATION"
   ]
  },
  {
   "cell_type": "code",
   "execution_count": 1,
   "metadata": {},
   "outputs": [
    {
     "data": {
      "application/vnd.jupyter.widget-view+json": {
       "model_id": "158880bf13e44620bc8466c31fc74a8e",
       "version_major": 2,
       "version_minor": 0
      },
      "text/plain": [
       "interactive(children=(Dropdown(description='xaxis', options=('Unnamed: 0', 'id', 'age', 'gender', 'height', 'w…"
      ]
     },
     "metadata": {},
     "output_type": "display_data"
    }
   ],
   "source": [
    "#start of predefine code\n",
    "from ipywidgets import widgets\n",
    "from IPython.display import display, clear_output\n",
    "import pandas as pd\n",
    "from tkinter import Tk, filedialog\n",
    "import matplotlib.pyplot as plt \n",
    "import numpy as np\n",
    "graph_type = ['Choose one.. ','bubble','bar']\n",
    "funtionality = ['Choose One','Sort','Filter']\n",
    "sort_option = ['ascending','descending']\n",
    "df = ''\n",
    "new_df = ''\n",
    "input_box = ''\n",
    "input_fontsize = ''\n",
    "input_title = ''\n",
    "#end of predefine code\n",
    "\n",
    "\n",
    "\n",
    "\n",
    "\n",
    "#start of predefine code \n",
    "def select_files(b):\n",
    "    clear_output()\n",
    "    global df, new_df\n",
    "    root = Tk()\n",
    "    root.withdraw()\n",
    "    file_name = filedialog.askopenfilename()\n",
    "    df = pd.read_csv(file_name)\n",
    "    \n",
    "    df.replace(\"\", float('nan'), inplace=True)\n",
    "    df.replace(\"0\", float('nan'), inplace=True)\n",
    "    df = df.dropna()\n",
    "    \n",
    "    groupby_col = widgets.Dropdown(options=df.columns)\n",
    "    operationsby_col = widgets.Dropdown(options=df.columns)\n",
    "    operations_wid = widgets.Dropdown(options=graph_type)\n",
    "\n",
    "    \n",
    "    groupby_int = widgets.interactive(display_plot, xaxis=groupby_col, yaxis=operationsby_col,\n",
    "                                       graph_type=operations_wid)\n",
    "    \n",
    "    display(groupby_int)\n",
    "    \n",
    "def display_plot(xaxis, yaxis, graph_type):\n",
    "    global new_df\n",
    "    global input_title\n",
    "    global input_fontsize\n",
    "    print(graph_type)\n",
    "    if(graph_type == 'bubble'):\n",
    "        plt.subplots(figsize=(19,8))\n",
    "        rgb = np.random.rand(3)\n",
    "        #Write Condition here\n",
    "\n",
    "        #End of write condition here \n",
    "        plt.title(input_title.value, fontsize=11)\n",
    "        plt.xlabel(xaxis, fontsize=11)\n",
    "        plt.xticks(rotation='vertical')\n",
    "        plt.ylabel(yaxis, fontsize=input_fontsize.value)\n",
    "        plt.show()\n",
    "    elif(graph_type == 'bar'):\n",
    "        plt.subplots(figsize=(19,8))\n",
    "        plt.bar(ddf[xaxis], df[yaxis], color=['red', 'green','blue','yellow','pink'])\n",
    "        plt.title(input_title.value, fontsize=11)\n",
    "        plt.xlabel(xaxis, fontsize=11)\n",
    "        plt.xticks(rotation='vertical')\n",
    "        plt.ylabel(yaxis, fontsize=input_fontsize.value)\n",
    "        plt.show()\n",
    "    else:\n",
    "        print(\"Choose valid graph\")\n",
    "fileselect = widgets.Button(description=\"File select\")\n",
    "fileselect.on_click(select_files)\n",
    "display(fileselect)\n",
    "#end of predefined\n"
   ]
  },
  {
   "cell_type": "code",
   "execution_count": null,
   "metadata": {},
   "outputs": [],
   "source": []
  },
  {
   "cell_type": "code",
   "execution_count": null,
   "metadata": {},
   "outputs": [],
   "source": []
  }
 ],
 "metadata": {
  "kernelspec": {
   "display_name": "Python 3 (ipykernel)",
   "language": "python",
   "name": "python3"
  },
  "language_info": {
   "codemirror_mode": {
    "name": "ipython",
    "version": 3
   },
   "file_extension": ".py",
   "mimetype": "text/x-python",
   "name": "python",
   "nbconvert_exporter": "python",
   "pygments_lexer": "ipython3",
   "version": "3.11.9"
  }
 },
 "nbformat": 4,
 "nbformat_minor": 4
}
