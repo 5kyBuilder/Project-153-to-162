{
 "cells": [
  {
   "cell_type": "markdown",
   "metadata": {},
   "source": [
    "# GUI Application"
   ]
  },
  {
   "cell_type": "code",
   "execution_count": 1,
   "metadata": {},
   "outputs": [
    {
     "name": "stdout",
     "output_type": "stream",
     "text": [
      "Name : \n",
      "Creation a GUI base application for data data visualization\n"
     ]
    }
   ],
   "source": [
    "print(\"Name : \")\n",
    "print(\"Creation a GUI base application for data data visualization\")"
   ]
  },
  {
   "cell_type": "code",
   "execution_count": 2,
   "metadata": {},
   "outputs": [
    {
     "name": "stdout",
     "output_type": "stream",
     "text": [
      "C:/Users/Raihaan/Downloads/Programming Languages/Python Programs/Homework/Project 200/cardiovascular.csv\n"
     ]
    },
    {
     "data": {
      "application/vnd.jupyter.widget-view+json": {
       "model_id": "4624a15e06134c8fa721b47bc52b201c",
       "version_major": 2,
       "version_minor": 0
      },
      "text/plain": [
       "interactive(children=(Dropdown(description='operation_column', options=('Unnamed: 0', 'id', 'age', 'gender', '…"
      ]
     },
     "metadata": {},
     "output_type": "display_data"
    }
   ],
   "source": [
    "#Done in previous class\n",
    "from ipywidgets import widgets\n",
    "from IPython.display import display, clear_output\n",
    "import pandas as pd\n",
    "from tkinter import Tk, filedialog\n",
    "import matplotlib.pyplot as plt\n",
    "graph_type = ['Choose one.. ','bubble','bar', 'line']\n",
    "funtionality = ['Choose One','Sort','Filter']\n",
    "sort_option = ['ascending','descending']\n",
    "filter_option = [\">\", \"<\", \"=\"]\n",
    "filter_values = [\"10\", \"20\", \"30\", \"40\", \"50\", \"60\", \"100\"]\n",
    "\n",
    "df = ''\n",
    "new_df = ''\n",
    "def select_files(b):\n",
    "    clear_output()\n",
    "    global df\n",
    "    root = Tk()\n",
    "    root.withdraw() \n",
    "    file_name = filedialog.askopenfilename()\n",
    "    df = pd.read_csv(file_name)\n",
    "    print(file_name)\n",
    "    df.replace( '', float('nan') ,inplace=True)\n",
    "    df.replace( '0', float('nan') ,inplace=True)\n",
    "    df = df.dropna()\n",
    "    operation_col_widget = widgets.Dropdown(options = df.columns)\n",
    "    operation_widget = widgets.Dropdown(options = filter_option)\n",
    "    operation_value_widget = widgets.Dropdown(options = filter_values)\n",
    "\n",
    "    groupby_int = widgets.interactive(filter_dataframe, operation_column= operation_col_widget, operation = operation_widget, value=operation_value_widget)\n",
    "    display(groupby_int)\n",
    "def get_widget():\n",
    "    global df\n",
    "    global new_df\n",
    "    xlabel_widget = widgets.Dropdown(options = new_df.columns)\n",
    "    ylabel_widget = widgets.Dropdown(options = new_df.columns)\n",
    "    graph_widget = widgets.Dropdown(options = graph_type)\n",
    "    graph = widgets.interactive(display_plot, xaxis=xlabel_widget, yaxis= ylabel_widget, graph_type = graph_widget)\n",
    "    display(graph)\n",
    "fileselect = widgets.Button(description=\"File select\")\n",
    "fileselect.on_click(select_files)\n",
    "display(fileselect)\n",
    "#End of what was done in previous class\n",
    "# Code for groupby_dataframe function\n",
    "def filter_dataframe(operation_column, operation, value):\n",
    "    global new_df, df\n",
    "    if(operation == \">\"):\n",
    "        new_df = df.loc[df[operation_column] > int(value)]\n",
    "    elif(operation == \"<\"):\n",
    "        new_df = df.loc[df[operation_column] < int(value)]\n",
    "    elif(operation == \"=\"):\n",
    "        new_df = df.loc[df[operation_column] == int(value)]\n",
    "    get_widget()\n",
    "\n",
    "# pre defined code\n",
    "def display_plot(xaxis, yaxis, graph_type):\n",
    "    global new_df\n",
    "    if(graph_type == 'line'):\n",
    "        plt.subplots(figsize=(19,8))\n",
    "        plt.plot(new_df[xaxis], new_df[yaxis], linewidth=3.0)\n",
    "        plt.xlabel(xaxis)\n",
    "        plt.xticks(rotation='vertical')\n",
    "        plt.ylabel(yaxis)\n",
    "        plt.show()\n",
    "    elif(graph_type == 'bar'):\n",
    "        plt.subplots(figsize=(19,8))\n",
    "        plt.bar(new_df[xaxis], new_df[yaxis], color=['red', 'green','blue','yellow','pink'])\n",
    "        plt.xlabel(xaxis)\n",
    "        plt.xticks(rotation='vertical')\n",
    "        plt.ylabel(yaxis)\n",
    "        plt.show()\n",
    "    else:\n",
    "        print(\"Choose valid graph\")\n",
    "#pre defined code end"
   ]
  },
  {
   "cell_type": "code",
   "execution_count": null,
   "metadata": {},
   "outputs": [],
   "source": []
  }
 ],
 "metadata": {
  "kernelspec": {
   "display_name": "Python 3 (ipykernel)",
   "language": "python",
   "name": "python3"
  },
  "language_info": {
   "codemirror_mode": {
    "name": "ipython",
    "version": 3
   },
   "file_extension": ".py",
   "mimetype": "text/x-python",
   "name": "python",
   "nbconvert_exporter": "python",
   "pygments_lexer": "ipython3",
   "version": "3.11.9"
  }
 },
 "nbformat": 4,
 "nbformat_minor": 4
}
